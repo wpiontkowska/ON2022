{
  "nbformat": 4,
  "nbformat_minor": 0,
  "metadata": {
    "colab": {
      "name": "LAB2 - zadanie domowe",
      "provenance": [],
      "include_colab_link": true
    },
    "kernelspec": {
      "name": "python3",
      "display_name": "Python 3"
    },
    "language_info": {
      "name": "python"
    }
  },
  "cells": [
    {
      "cell_type": "markdown",
      "metadata": {
        "id": "view-in-github",
        "colab_type": "text"
      },
      "source": [
        "<a href=\"https://colab.research.google.com/github/wpiontkowska/ON2022/blob/main/LAB2_zadanie_domowe.ipynb\" target=\"_parent\"><img src=\"https://colab.research.google.com/assets/colab-badge.svg\" alt=\"Open In Colab\"/></a>"
      ]
    },
    {
      "cell_type": "code",
      "execution_count": null,
      "metadata": {
        "id": "Kc53TXAEr6YG"
      },
      "outputs": [],
      "source": [
        ""
      ]
    },
    {
      "cell_type": "markdown",
      "source": [
        "#### Zadanie 1\n",
        "Niech $L1 = [\"1\", \"10\", \"2\", \"15\", \"22\", \"112\"]$ oraz $L2 = [\"0.5\", \"1\", \"15\", \"22.4\", \"22\", \"211\"]$.\n",
        "\n",
        "Posortuj listy $L1$ i $L2$ zgodnie z wartościami zapisanych liczb (a nie leksykograficznie). Stwórz Listę $L3$, która będzie zawierała wartości liczbowe utworzone poprzez konkatenację napisów z posortowanych list $L1$ oraz $L2$."
      ],
      "metadata": {
        "id": "ENCL_g8HsECL"
      }
    },
    {
      "cell_type": "code",
      "source": [
        "#Zamiana L1 na liczby i przesortowanie ich\n",
        "L1 = [\"1\", \"10\", \"2\", \"15\", \"22\", \"112\"]\n",
        "L1 = [int(el) for el in L1]\n",
        "L1.sort(reverse=False)\n",
        "L1"
      ],
      "metadata": {
        "id": "v4FjR5mosF-A",
        "colab": {
          "base_uri": "https://localhost:8080/"
        },
        "outputId": "793d5b4b-9f3f-45c1-fc23-4398800667c5"
      },
      "execution_count": 1,
      "outputs": [
        {
          "output_type": "execute_result",
          "data": {
            "text/plain": [
              "[1, 2, 10, 15, 22, 112]"
            ]
          },
          "metadata": {},
          "execution_count": 1
        }
      ]
    },
    {
      "cell_type": "code",
      "source": [
        "#Zamiana L2 na liczby i przesortowanie ich\n",
        "L2 = [\"0.5\", \"1\", \"15\", \"22.4\", \"22\", \"211\"]\n",
        "L2 = [float(el) for el in L2]\n",
        "L2.sort(reverse=False)\n",
        "L2"
      ],
      "metadata": {
        "id": "7wYQGePWsGH6",
        "colab": {
          "base_uri": "https://localhost:8080/"
        },
        "outputId": "cd009420-902c-44ed-abf6-cd9f3fa8919c"
      },
      "execution_count": 3,
      "outputs": [
        {
          "output_type": "execute_result",
          "data": {
            "text/plain": [
              "[0.5, 1.0, 15.0, 22.0, 22.4, 211.0]"
            ]
          },
          "metadata": {},
          "execution_count": 3
        }
      ]
    },
    {
      "cell_type": "code",
      "source": [
        "#Zamiana z liczb na typ string\n",
        "L1 = [str(el) for el in L1]\n",
        "L2 = [str(el) for el in L2]"
      ],
      "metadata": {
        "id": "PoCorE4FsGKc"
      },
      "execution_count": 4,
      "outputs": []
    },
    {
      "cell_type": "code",
      "source": [
        "#Konkatencja napisów\n",
        "L3 = L1 + L2"
      ],
      "metadata": {
        "id": "-gBPsBRzsGNH"
      },
      "execution_count": 5,
      "outputs": []
    },
    {
      "cell_type": "code",
      "source": [
        "print(L3)"
      ],
      "metadata": {
        "id": "lC5CvDttsGPv",
        "colab": {
          "base_uri": "https://localhost:8080/"
        },
        "outputId": "8c128048-c7e5-40e4-da16-fb4181ef807b"
      },
      "execution_count": 7,
      "outputs": [
        {
          "output_type": "stream",
          "name": "stdout",
          "text": [
            "['1', '2', '10', '15', '22', '112', '0.5', '1.0', '15.0', '22.0', '22.4', '211.0']\n"
          ]
        }
      ]
    },
    {
      "cell_type": "code",
      "source": [
        ""
      ],
      "metadata": {
        "id": "dWQHCVbisGTB"
      },
      "execution_count": null,
      "outputs": []
    },
    {
      "cell_type": "markdown",
      "source": [
        "#### Zadanie 2\n",
        "Dane są dwie listy upodobań:\n",
        "\n",
        "Jarek = ['koty', 'dobrze zjesc', 'piwo', 'bose spacery po trawie', 'pilka nozna'],\n",
        "\n",
        "Marek = ['piwo', 'psy', 'dobrze zjesc', 'siatkowka', 'seriale'].\n",
        "\n",
        "Na ich podstawie:\n",
        "\n",
        "1.  przygotuj zbiory $Jarek$ i $Marek$, i wyświetl ich zawartość,\n",
        "\n",
        "2.  oblicz sumę ich upodobań, to co wspólnie lubią, to co lubi tylko Jarek, to co lubi tylko Marek i wyświetl ich zawartości"
      ],
      "metadata": {
        "id": "ACNcsNASsGda"
      }
    },
    {
      "cell_type": "code",
      "source": [
        "#Zbiór Jarek\n",
        "Jarek = ['koty', 'dobrze zjesc', 'piwo', 'bose spacery po trawie', 'pilka nozna']\n",
        "Jarek = set(Jarek)\n",
        "print(Jarek)"
      ],
      "metadata": {
        "id": "EJJeCBPrsSkQ",
        "colab": {
          "base_uri": "https://localhost:8080/"
        },
        "outputId": "ec2d6816-b5d3-4441-8cac-79ff634edece"
      },
      "execution_count": 11,
      "outputs": [
        {
          "output_type": "stream",
          "name": "stdout",
          "text": [
            "{'pilka nozna', 'piwo', 'koty', 'dobrze zjesc', 'bose spacery po trawie'}\n"
          ]
        }
      ]
    },
    {
      "cell_type": "code",
      "source": [
        "#zbiór Marek\n",
        "Marek = ['piwo', 'psy', 'dobrze zjesc', 'siatkowka', 'seriale']\n",
        "Marek = set(Marek)\n",
        "print(Marek)"
      ],
      "metadata": {
        "id": "wz62PlFtsTJT",
        "colab": {
          "base_uri": "https://localhost:8080/"
        },
        "outputId": "2223ccb5-e1aa-4dfc-aca1-de9941ffd841"
      },
      "execution_count": 12,
      "outputs": [
        {
          "output_type": "stream",
          "name": "stdout",
          "text": [
            "{'siatkowka', 'piwo', 'dobrze zjesc', 'psy', 'seriale'}\n"
          ]
        }
      ]
    },
    {
      "cell_type": "code",
      "source": [
        "#suma ich upodobań (bez powtórzeń)\n",
        "Suma = len(Jarek|Marek)\n",
        "print(Suma)"
      ],
      "metadata": {
        "id": "WueBbUhmsTLS",
        "colab": {
          "base_uri": "https://localhost:8080/"
        },
        "outputId": "a53e5aeb-947e-4108-8d7c-b087d9d623e3"
      },
      "execution_count": 53,
      "outputs": [
        {
          "output_type": "stream",
          "name": "stdout",
          "text": [
            "8\n"
          ]
        }
      ]
    },
    {
      "cell_type": "code",
      "source": [
        "#to co wspólnie lubią\n",
        "Wspólnie = Jarek & Marek\n",
        "print(Wspólnie)"
      ],
      "metadata": {
        "id": "_iwYcIhvsTNY",
        "colab": {
          "base_uri": "https://localhost:8080/"
        },
        "outputId": "dd2bbe91-1485-45e3-c37f-9d326d74788d"
      },
      "execution_count": 14,
      "outputs": [
        {
          "output_type": "stream",
          "name": "stdout",
          "text": [
            "{'piwo', 'dobrze zjesc'}\n"
          ]
        }
      ]
    },
    {
      "cell_type": "code",
      "source": [
        "#lubi tylko Jarek\n",
        "TylkoJarek = Jarek - Marek\n",
        "print(TylkoJarek)"
      ],
      "metadata": {
        "id": "ISS8FoMfsTQs",
        "colab": {
          "base_uri": "https://localhost:8080/"
        },
        "outputId": "4c01ee67-31d9-493a-c26d-024395cf2bf5"
      },
      "execution_count": 16,
      "outputs": [
        {
          "output_type": "stream",
          "name": "stdout",
          "text": [
            "{'bose spacery po trawie', 'koty', 'pilka nozna'}\n"
          ]
        }
      ]
    },
    {
      "cell_type": "code",
      "source": [
        "#lubi tylko Marek\n",
        "TylkoMarek = Marek - Jarek\n",
        "print(TylkoMarek)"
      ],
      "metadata": {
        "colab": {
          "base_uri": "https://localhost:8080/"
        },
        "id": "7Kjlxfpw9joE",
        "outputId": "ab4d1e25-adc4-4530-f55b-71efd054bcb3"
      },
      "execution_count": 18,
      "outputs": [
        {
          "output_type": "stream",
          "name": "stdout",
          "text": [
            "{'psy', 'siatkowka', 'seriale'}\n"
          ]
        }
      ]
    },
    {
      "cell_type": "markdown",
      "source": [
        "#### Zadanie 3\n",
        "Napisz **funkcję** bezargumentową o nazwie listownik(), która\n",
        "* zapyta o długośc listy, która musi znaleźć się w przedziale $[10,20]$ (przypilnuj użytkownika)\n",
        "* wygeneruje  i wydrukuje listę o odpowiedniej długości z liczbami losowymi  przedziału $[0,10]$\n",
        "* **zwróci** liczbę unikalnych wartości w wygenerowanej liście\n",
        "\n",
        "W rozwiązaniu można korzystać z funkcji pomocniczych.\n"
      ],
      "metadata": {
        "id": "gvgzYVq7tVRB"
      }
    },
    {
      "cell_type": "code",
      "source": [
        "from random import randint\n",
        "def listownik():\n",
        "  dlugosc = int(input(\"Podaj liczbę z przedziału [10,20]: \"))\n",
        "  while dlugosc < 10 or dlugosc > 20:\n",
        "    print(\"Liczba błedna, musi znajdować się w przedziale [10,20]\")\n",
        "    dlugosc = int(input(\"Podaj liczbę z przedziału [10,20]: \"))\n",
        "  else:\n",
        "    lista = []\n",
        "    for x in range(dlugosc):\n",
        "     lista.append(randint(0,10))\n",
        "    print(lista)\n",
        "    return len(set(lista))"
      ],
      "metadata": {
        "id": "lhi0JLcntXrQ"
      },
      "execution_count": 115,
      "outputs": []
    },
    {
      "cell_type": "code",
      "source": [
        "listownik()\n",
        "\n"
      ],
      "metadata": {
        "colab": {
          "base_uri": "https://localhost:8080/"
        },
        "id": "FCVw1z4SHyxb",
        "outputId": "f517cbd4-134a-4811-946e-ba03e0eb9055"
      },
      "execution_count": 116,
      "outputs": [
        {
          "output_type": "stream",
          "name": "stdout",
          "text": [
            "Podaj liczbę z przedziału [10,20]: 34\n",
            "Liczba błedna, musi znajdować się w przedziale [10,20]\n",
            "Podaj liczbę z przedziału [10,20]: 11\n",
            "[0, 0, 4, 1, 3, 9, 7, 6, 4, 6, 4]\n"
          ]
        },
        {
          "output_type": "execute_result",
          "data": {
            "text/plain": [
              "7"
            ]
          },
          "metadata": {},
          "execution_count": 116
        }
      ]
    },
    {
      "cell_type": "code",
      "source": [
        ""
      ],
      "metadata": {
        "id": "-fAIowNoJNbC"
      },
      "execution_count": null,
      "outputs": []
    }
  ]
}